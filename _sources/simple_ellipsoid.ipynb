{
 "cells": [
  {
   "cell_type": "markdown",
   "id": "adbec1af",
   "metadata": {},
   "source": [
    "# Simple ellipsoid\n"
   ]
  },
  {
   "cell_type": "code",
   "execution_count": null,
   "id": "1142f449",
   "metadata": {},
   "outputs": [],
   "source": [
    "import dolfin\n",
    "from fenics_plotly import plot"
   ]
  },
  {
   "cell_type": "code",
   "execution_count": null,
   "id": "77f1452e",
   "metadata": {
    "lines_to_next_cell": 2
   },
   "outputs": [],
   "source": [
    "import pulse"
   ]
  },
  {
   "cell_type": "code",
   "execution_count": null,
   "id": "9ae9701e",
   "metadata": {},
   "outputs": [],
   "source": [
    "try:\n",
    "    from dolfin_adjoint import Constant, DirichletBC, Function, Mesh, interpolate\n",
    "except ImportError:\n",
    "    from dolfin import Function, Constant, DirichletBC, Mesh, interpolate"
   ]
  },
  {
   "cell_type": "code",
   "execution_count": null,
   "id": "2da58ad6",
   "metadata": {},
   "outputs": [],
   "source": [
    "gamma_space = \"R_0\""
   ]
  },
  {
   "cell_type": "code",
   "execution_count": null,
   "id": "cb78f1e9",
   "metadata": {},
   "outputs": [],
   "source": [
    "geometry = pulse.HeartGeometry.from_file(pulse.mesh_paths[\"simple_ellipsoid\"])\n",
    "# geometry = pulse.geometries.prolate_ellipsoid_geometry(mesh_size_factor=3.0)"
   ]
  },
  {
   "cell_type": "code",
   "execution_count": null,
   "id": "70edb40e",
   "metadata": {},
   "outputs": [],
   "source": [
    "if gamma_space == \"regional\":\n",
    "    activation = pulse.RegionalParameter(geometry.cfun)\n",
    "    target_activation = pulse.dolfin_utils.get_constant(0.2, len(activation))\n",
    "else:\n",
    "    activation = Function(dolfin.FunctionSpace(geometry.mesh, \"R\", 0))\n",
    "    target_activation = Constant(0.2)"
   ]
  },
  {
   "cell_type": "code",
   "execution_count": null,
   "id": "1d8ebdb0",
   "metadata": {},
   "outputs": [],
   "source": [
    "matparams = pulse.HolzapfelOgden.default_parameters()\n",
    "material = pulse.HolzapfelOgden(\n",
    "    activation=activation,\n",
    "    parameters=matparams,\n",
    "    f0=geometry.f0,\n",
    "    s0=geometry.s0,\n",
    "    n0=geometry.n0,\n",
    ")"
   ]
  },
  {
   "cell_type": "code",
   "execution_count": null,
   "id": "c253eed6",
   "metadata": {},
   "outputs": [],
   "source": [
    "# LV Pressure\n",
    "lvp = Constant(0.0)\n",
    "lv_marker = geometry.markers[\"ENDO\"][0]\n",
    "lv_pressure = pulse.NeumannBC(traction=lvp, marker=lv_marker, name=\"lv\")\n",
    "neumann_bc = [lv_pressure]"
   ]
  },
  {
   "cell_type": "code",
   "execution_count": null,
   "id": "701312c1",
   "metadata": {},
   "outputs": [],
   "source": [
    "# Add spring term at the epicardium of stiffness 1.0 kPa/cm^2 to represent pericardium\n",
    "base_spring = 1.0\n",
    "robin_bc = [\n",
    "    pulse.RobinBC(value=Constant(base_spring), marker=geometry.markers[\"EPI\"][0]),\n",
    "]"
   ]
  },
  {
   "cell_type": "code",
   "execution_count": null,
   "id": "50ca69df",
   "metadata": {},
   "outputs": [],
   "source": [
    "# Fix the basal plane in the longitudinal direction\n",
    "# 0 in V.sub(0) refers to x-direction, which is the longitudinal direction\n",
    "def fix_basal_plane(W):\n",
    "    V = W if W.sub(0).num_sub_spaces() == 0 else W.sub(0)\n",
    "    bc = DirichletBC(\n",
    "        V.sub(0),\n",
    "        Constant(0.0),\n",
    "        geometry.ffun,\n",
    "        geometry.markers[\"BASE\"][0],\n",
    "    )\n",
    "    return bc"
   ]
  },
  {
   "cell_type": "code",
   "execution_count": null,
   "id": "31387dba",
   "metadata": {
    "lines_to_next_cell": 2
   },
   "outputs": [],
   "source": [
    "dirichlet_bc = (fix_basal_plane,)"
   ]
  },
  {
   "cell_type": "code",
   "execution_count": null,
   "id": "8fdbbfc3",
   "metadata": {},
   "outputs": [],
   "source": [
    "# Collect boundary conditions\n",
    "bcs = pulse.BoundaryConditions(\n",
    "    dirichlet=dirichlet_bc,\n",
    "    neumann=neumann_bc,\n",
    "    robin=robin_bc,\n",
    ")"
   ]
  },
  {
   "cell_type": "code",
   "execution_count": null,
   "id": "e82a74c1",
   "metadata": {},
   "outputs": [],
   "source": [
    "# Create the problem\n",
    "problem = pulse.MechanicsProblem(geometry, material, bcs)"
   ]
  },
  {
   "cell_type": "code",
   "execution_count": null,
   "id": "c7bfc9f1",
   "metadata": {},
   "outputs": [],
   "source": [
    "# Solve the problem\n",
    "pulse.iterate.iterate(problem, (lvp, activation), (1.0, target_activation))"
   ]
  },
  {
   "cell_type": "code",
   "execution_count": null,
   "id": "0c399d6e",
   "metadata": {},
   "outputs": [],
   "source": [
    "# Get the solution\n",
    "u, p = problem.state.split(deepcopy=True)"
   ]
  },
  {
   "cell_type": "code",
   "execution_count": null,
   "id": "9e575b5a",
   "metadata": {},
   "outputs": [],
   "source": [
    "# Move mesh accoring to displacement\n",
    "u_int = interpolate(u, dolfin.VectorFunctionSpace(geometry.mesh, \"CG\", 1))\n",
    "mesh = Mesh(geometry.mesh)\n",
    "dolfin.ALE.move(mesh, u_int)"
   ]
  },
  {
   "cell_type": "code",
   "execution_count": null,
   "id": "f790d894",
   "metadata": {},
   "outputs": [],
   "source": [
    "fig = plot(geometry.mesh, opacity=0.0, show=False)\n",
    "fig.add_plot(plot(mesh, color=\"red\", show=False))\n",
    "fig.show()"
   ]
  }
 ],
 "metadata": {
  "jupytext": {
   "cell_metadata_filter": "-all",
   "main_language": "python",
   "notebook_metadata_filter": "-all"
  }
 },
 "nbformat": 4,
 "nbformat_minor": 5
}
